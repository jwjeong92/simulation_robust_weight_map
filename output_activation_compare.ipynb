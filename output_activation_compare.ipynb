{
 "cells": [
  {
   "cell_type": "code",
   "execution_count": 2,
   "metadata": {},
   "outputs": [],
   "source": [
    "import torch\n",
    "\n",
    "opt_act_path = 'loss_quantification/opt_125m_acts'\n",
    "quant_act_path = 'loss_quantification/opt_125m_q4_256g_acts'"
   ]
  },
  {
   "cell_type": "code",
   "execution_count": 3,
   "metadata": {},
   "outputs": [
    {
     "name": "stderr",
     "output_type": "stream",
     "text": [
      "/home/jwjeong/anaconda3/envs/autogptq/lib/python3.8/site-packages/tqdm/auto.py:21: TqdmWarning: IProgress not found. Please update jupyter and ipywidgets. See https://ipywidgets.readthedocs.io/en/stable/user_install.html\n",
      "  from .autonotebook import tqdm as notebook_tqdm\n"
     ]
    }
   ],
   "source": [
    "from transformers import AutoModelForCausalLM, AutoTokenizer\n",
    "import torch.nn as nn\n",
    "from transformers.pytorch_utils import Conv1D\n",
    "\n",
    "opt_model_id = 'facebook/opt-125m'\n",
    "\n",
    "model = AutoModelForCausalLM.from_pretrained(opt_model_id)\n"
   ]
  },
  {
   "cell_type": "code",
   "execution_count": 16,
   "metadata": {},
   "outputs": [],
   "source": [
    "orig = torch.load(opt_act_path+'/'+'model.decoder.layers.0.self_attn.out_proj.pt')\n",
    "q = torch.load(quant_act_path+'/'+'model.decoder.layers.0.self_attn.out_proj.pt')"
   ]
  },
  {
   "cell_type": "code",
   "execution_count": 18,
   "metadata": {},
   "outputs": [],
   "source": [
    "import torch.nn.functional as F\n",
    "\n",
    "avg_mse = {}\n",
    "for name, m in model.named_modules():\n",
    "    if isinstance(m, nn.Linear) | isinstance(m, Conv1D):\n",
    "        if name.split('.')[-1] != 'lm_head':\n",
    "            orig = torch.load(opt_act_path+'/'+name+'.pt')\n",
    "            quant = torch.load(quant_act_path+'/'+name+'.pt')\n",
    "            sum = 0\n",
    "            for i in range(len(orig)):\n",
    "                mse_loss = F.mse_loss(orig[i], quant[i])\n",
    "                sum += mse_loss\n",
    "\n",
    "            avg_mse[name] = sum / len(orig)"
   ]
  },
  {
   "cell_type": "code",
   "execution_count": 20,
   "metadata": {},
   "outputs": [],
   "source": [
    "total_loss = 0\n",
    "for key in avg_mse:\n",
    "    total_loss += avg_mse[key]"
   ]
  },
  {
   "cell_type": "code",
   "execution_count": 21,
   "metadata": {},
   "outputs": [
    {
     "data": {
      "text/plain": [
       "tensor(1.7983)"
      ]
     },
     "execution_count": 21,
     "metadata": {},
     "output_type": "execute_result"
    }
   ],
   "source": [
    "total_loss"
   ]
  },
  {
   "cell_type": "code",
   "execution_count": null,
   "metadata": {},
   "outputs": [],
   "source": [
    "import torch.nn.functional as F\n",
    "\n",
    "for name, m in model.named_modules():\n",
    "    if isinstance(m, nn.Linear) | isinstance(m, Conv1D):\n",
    "        if name.split('.')[-1] != 'lm_head':\n",
    "            original = torch.load(opt_act_path+'/'+name+'.pt')\n",
    "            quant = torch.load(quant_act_path+'/'+name+'.pt')\n",
    "            "
   ]
  }
 ],
 "metadata": {
  "kernelspec": {
   "display_name": "autogptq",
   "language": "python",
   "name": "python3"
  },
  "language_info": {
   "codemirror_mode": {
    "name": "ipython",
    "version": 3
   },
   "file_extension": ".py",
   "mimetype": "text/x-python",
   "name": "python",
   "nbconvert_exporter": "python",
   "pygments_lexer": "ipython3",
   "version": "3.8.18"
  }
 },
 "nbformat": 4,
 "nbformat_minor": 2
}
