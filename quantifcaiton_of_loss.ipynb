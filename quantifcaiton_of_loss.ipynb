{
 "cells": [
  {
   "cell_type": "code",
   "execution_count": 22,
   "metadata": {},
   "outputs": [],
   "source": [
    "from quant import quant, dequant\n",
    "from transformers import AutoModelForCausalLM, AutoTokenizer\n",
    "from utils import evaluate_opt, opt_eval\n",
    "from datasets import load_dataset\n",
    "from copy import deepcopy\n",
    "\n",
    "opt_model_id = 'facebook/opt-125m'\n",
    "gpt_model_id = 'gpt2'\n",
    "device = \"cuda\"\n",
    "opt_model = AutoModelForCausalLM.from_pretrained(opt_model_id)\n",
    "#gpt_model = AutoModelForCausalLM.from_pretrained(gpt_model_id)\n",
    "opt_tokenizer = AutoTokenizer.from_pretrained(opt_model_id)\n",
    "#gpt_tokenizer = AutoTokenizer.from_pretrained(gpt_model_id)\n",
    "\n",
    "dataset = load_dataset(\"wikitext\", \"wikitext-2-raw-v1\", split=\"test\")\n",
    "opt_testenc = opt_tokenizer(\"\\n\\n\".join(dataset[\"text\"]), return_tensors=\"pt\")\n",
    "\n",
    "gs = 4\n",
    "q_bits = 2\n",
    "opt_scale, opt_zero, opt_qweight = quant(q_bits, gs, opt_model)\n",
    "dequant_weight = dequant(opt_scale, opt_zero, opt_qweight, gs, q_bits)\n",
    "dequant_opt = deepcopy(opt_model)\n",
    "for key in dequant_weight.keys():\n",
    "    if key.split('.')[-1] != 'lm_head':\n",
    "        weight = key+'.weight'\n",
    "        dequant_opt.state_dict()[weight][:] = dequant_weight[key]"
   ]
  },
  {
   "cell_type": "code",
   "execution_count": 23,
   "metadata": {},
   "outputs": [
    {
     "name": "stdout",
     "output_type": "stream",
     "text": [
      "14.701229095458984\n"
     ]
    }
   ],
   "source": [
    "original_ppl = opt_eval(opt_model, opt_testenc, device)\n",
    "quant_ppl = opt_eval(dequant_opt, opt_testenc, device)\n",
    "print(quant_ppl-original_ppl)"
   ]
  },
  {
   "cell_type": "code",
   "execution_count": 3,
   "metadata": {},
   "outputs": [],
   "source": [
    "import numpy as np\n",
    "\n",
    "def calculate_qsnr(original_signal, quantized_signal):\n",
    "    \"\"\"\n",
    "    Calculate the Quantization Signal-to-Noise Ratio (QSNR).\n",
    "\n",
    "    Parameters:\n",
    "    original_signal (numpy array): The original signal vector.\n",
    "    quantized_signal (numpy array): The quantized signal vector.\n",
    "\n",
    "    Returns:\n",
    "    float: The QSNR value in decibels (dB).\n",
    "    \"\"\"\n",
    "    # Calculate the mean squared error (MSE) between the original and quantized signals\n",
    "    mse = np.mean((quantized_signal - original_signal) ** 2)\n",
    "    \n",
    "    # Calculate the mean squared value of the original signal\n",
    "    signal_power = np.mean(original_signal ** 2)\n",
    "    \n",
    "    # Calculate the QSNR in dB\n",
    "    qsnr = -10 * np.log10(mse / signal_power)\n",
    "    \n",
    "    return qsnr"
   ]
  },
  {
   "cell_type": "code",
   "execution_count": 4,
   "metadata": {},
   "outputs": [],
   "source": [
    "import torch\n",
    "import torch.nn as nn\n",
    "from transformers.pytorch_utils import Conv1D\n",
    "\n",
    "import functools\n",
    "from tqdm import tqdm\n",
    "\n",
    "def get_activation(model, dataset, tokenizer, num_samples=512, seq_len=512):\n",
    "    model.eval()\n",
    "    device = next(model.parameters()).device # next는 객체의 __next__ 호출, 다음 iter를 부름?\n",
    "    activations = {}\n",
    "\n",
    "    def stat_tensor(name, tensor):\n",
    "        hidden_dim = tensor.shape[-1]\n",
    "        tensor = tensor.view(-1, hidden_dim).detach().cpu()\n",
    "        if name in activations:\n",
    "            activations[name].append(tensor)\n",
    "        else:\n",
    "            activations[name] = list()\n",
    "            activations[name].append(tensor)\n",
    "\n",
    "    def stat_input_hook(m, x, y, name):\n",
    "        if isinstance(x, tuple):\n",
    "            y = y[0]\n",
    "        stat_tensor(name, y)\n",
    "\n",
    "    hooks = []\n",
    "    for name, m in model.named_modules():\n",
    "        if isinstance(m, nn.Linear) | isinstance(m, Conv1D):\n",
    "            if name.split('.')[-1] != 'lm_head':\n",
    "                hooks.append(\n",
    "                    m.register_forward_hook(\n",
    "                        functools.partial(stat_input_hook, name=name))\n",
    "                )\n",
    "    \n",
    "    dataset = dataset.shuffle(seed=42)\n",
    "    dataset_list = []\n",
    "    for ii in range(len(dataset)):\n",
    "        if dataset[ii]['text'] != '':\n",
    "            dataset_list.append(dataset[ii])\n",
    "\n",
    "    for i in tqdm(range(num_samples)):\n",
    "        input_ids = tokenizer(dataset_list[i][\"text\"], return_tensors=\"pt\",\n",
    "                              max_length=seq_len, truncation=True).input_ids.to(device)\n",
    "        model(input_ids)\n",
    "\n",
    "    for h in hooks:\n",
    "        h.remove()\n",
    "\n",
    "    return activations"
   ]
  },
  {
   "cell_type": "code",
   "execution_count": 7,
   "metadata": {},
   "outputs": [
    {
     "name": "stderr",
     "output_type": "stream",
     "text": [
      "100%|██████████| 512/512 [00:05<00:00, 94.15it/s] \n"
     ]
    }
   ],
   "source": [
    "activations = get_activation(opt_model.to(device), dataset, opt_tokenizer)"
   ]
  },
  {
   "cell_type": "code",
   "execution_count": 8,
   "metadata": {},
   "outputs": [],
   "source": [
    "for key in activations:\n",
    "    torch.save(activations[key], f'loss_quantification/opt_125m_acts/{key}.pt')"
   ]
  }
 ],
 "metadata": {
  "kernelspec": {
   "display_name": "autogptq",
   "language": "python",
   "name": "python3"
  },
  "language_info": {
   "codemirror_mode": {
    "name": "ipython",
    "version": 3
   },
   "file_extension": ".py",
   "mimetype": "text/x-python",
   "name": "python",
   "nbconvert_exporter": "python",
   "pygments_lexer": "ipython3",
   "version": "3.8.18"
  }
 },
 "nbformat": 4,
 "nbformat_minor": 2
}
